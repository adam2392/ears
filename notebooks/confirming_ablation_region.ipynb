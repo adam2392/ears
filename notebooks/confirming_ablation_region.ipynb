{
 "cells": [
  {
   "cell_type": "markdown",
   "metadata": {},
   "source": [
    "# Confirming the Anatomical Region of the Ablation Using Freesurfer LUT"
   ]
  },
  {
   "cell_type": "markdown",
   "metadata": {},
   "source": [
    "After annotating the ablation region of the post surgical MRI with Seg3D, we use Slicer to reorient the MRI from RAS to freesurfer (FS) space. Then on the mask, we overlay the Desikan-Killiany atlas provided by Freesurfer, matching each voxel to its corresponding brain region in the atlas. Compare the resulting list of brain regions to what was clinically reported will allow us to confirm that the mask was mapped to the correct space. \n",
    "\n",
    "We will us la02 as an example."
   ]
  },
  {
   "cell_type": "code",
   "execution_count": 10,
   "metadata": {},
   "outputs": [],
   "source": [
    "# import modules\n",
    "import os\n",
    "import nibabel as nb\n",
    "import numpy as np\n",
    "import nrrd\n",
    "import collections"
   ]
  },
  {
   "cell_type": "markdown",
   "metadata": {},
   "source": [
    "Freesurfer's lookup table (LUT) assigns a number to a certain brain region. The full table can be found here:\n",
    "https://surfer.nmr.mgh.harvard.edu/fswiki/FsTutorial/AnatomicalROI/FreeSurferColorLUT"
   ]
  },
  {
   "cell_type": "code",
   "execution_count": 3,
   "metadata": {},
   "outputs": [
    {
     "name": "stdout",
     "output_type": "stream",
     "text": [
      "Loading lookup table for freesurfer labels\n"
     ]
    }
   ],
   "source": [
    "# get labels using Freesurfer's lookup table (LUT)\n",
    "fs_lut_fpath = \"C:\\\\Users\\\\d0156\\\\Dropbox\\\\bids_layout_data\\\\sub-la02\\\\FreeSurferColorLUT.txt\"\n",
    "fid = open(fs_lut_fpath)\n",
    "LUT = fid.readlines()\n",
    "fid.close()\n",
    "\n",
    "# make dictionary of labels\n",
    "LUT = [row.split() for row in LUT]\n",
    "lab = {}\n",
    "for row in LUT:\n",
    "    if (\n",
    "        len(row) > 1 and row[0][0] is not \"#\" and row[0][0] is not \"\\\\\"\n",
    "    ):\n",
    "        lname = row[1]\n",
    "        lab[np.int(row[0])] = lname\n",
    "\n",
    "print(\"Loading lookup table for freesurfer labels\")"
   ]
  },
  {
   "cell_type": "markdown",
   "metadata": {},
   "source": [
    "Freesurfer provides three different types of atlases: Desikan-Killiany, DKT, and Destrieux. The three are trained in different ways, but in general, an atlas is a model of the cortical surface based on probabilistic information estimated from a manually labeled training set. For more information, visit\n",
    "https://surfer.nmr.mgh.harvard.edu/fswiki/CorticalParcellation"
   ]
  },
  {
   "cell_type": "code",
   "execution_count": 4,
   "metadata": {},
   "outputs": [
    {
     "name": "stdout",
     "output_type": "stream",
     "text": [
      "Loading atlas\n"
     ]
    }
   ],
   "source": [
    "# assuming atlas type is desikan-killiany\n",
    "depth_atlas_suffix = \"\"\n",
    "mri_dir = \"C:\\\\Users\\\\d0156\\\\Dropbox\\\\bids_layout_data\\\\la02\\\\mri\"\n",
    "\n",
    "# load in ASEG image file from atlas\n",
    "aseg_fpath = os.path.join(mri_dir, \"aparc%s+aseg.mgz\" % (depth_atlas_suffix))\n",
    "depth_atlas_img = nb.freesurfer.load(aseg_fpath)\n",
    "aparc_dat = depth_atlas_img.get_fdata()\n",
    "\n",
    "print(\"Loading atlas\")"
   ]
  },
  {
   "cell_type": "markdown",
   "metadata": {},
   "source": [
    "After annotating the ablation in Seg3D and mapping the mask to FS space using Slicer, we index the annotated voxels of the mask. "
   ]
  },
  {
   "cell_type": "code",
   "execution_count": 5,
   "metadata": {},
   "outputs": [
    {
     "name": "stdout",
     "output_type": "stream",
     "text": [
      "Loading mask\n",
      "Loading mask index\n"
     ]
    }
   ],
   "source": [
    "# load mask image\n",
    "mask_dir = \"C:\\\\Users\\\\d0156\\\\Dropbox\\\\bids_layout_data\\\\sub-la02\\\\test\"\n",
    "mask_fpath = os.path.join(mask_dir, \"sub-la02_ses-postsurgery_proc-slicer.nii\")\n",
    "mask_img = nb.load(mask_fpath)\n",
    "mask_data = mask_img.get_fdata()\n",
    "\n",
    "print(\"Loading mask\")\n",
    "\n",
    "# determine where mask is\n",
    "mask_indx = np.argwhere(mask_data)\n",
    "\n",
    "print(\"Loading mask index\")"
   ]
  },
  {
   "cell_type": "markdown",
   "metadata": {},
   "source": [
    "We overlay the annotated voxels with the atlas and the LUT, which gives us a list of brain regions within the mask. This should be similar to what was reported clinically. "
   ]
  },
  {
   "cell_type": "code",
   "execution_count": 6,
   "metadata": {},
   "outputs": [
    {
     "name": "stdout",
     "output_type": "stream",
     "text": [
      "Loading brain regions in mask\n",
      "Brain regions in mask: \n",
      "['ctx-lh-superiorfrontal', 'Left-Cerebral-White-Matter', 'WM-hypointensities', 'ctx-lh-rostralmiddlefrontal']\n"
     ]
    }
   ],
   "source": [
    "# determine list of brain regions in mask\n",
    "aparc_indx = []\n",
    "for i in range(len(mask_indx)):\n",
    "    aparc_indx.append(aparc_dat[mask_indx[i][0], mask_indx[i][1], mask_indx[i][2]])\n",
    "\n",
    "regions = []\n",
    "for i in range(len(aparc_indx)):\n",
    "    if (aparc_indx[i] != 0) and (lab[aparc_indx[i]] not in regions):\n",
    "        regions.append(lab[aparc_indx[i]])\n",
    "\n",
    "print(\"Loading brain regions in mask\")\n",
    "\n",
    "print(\"Brain regions in mask: \")\n",
    "print(regions)"
   ]
  },
  {
   "cell_type": "code",
   "execution_count": 7,
   "metadata": {},
   "outputs": [],
   "source": [
    "def _from_tsv(fname, dtypes=None):\n",
    "    \"\"\"Read a tsv file into an OrderedDict.\n",
    "    Parameters\n",
    "    ----------\n",
    "    fname : str\n",
    "        Path to the file being loaded.\n",
    "    dtypes : list, optional\n",
    "        List of types to cast the values loaded as. This is specified column by\n",
    "        column.\n",
    "        Defaults to None. In this case all the data is loaded as strings.\n",
    "    Returns\n",
    "    -------\n",
    "    data_dict : collections.OrderedDict\n",
    "        Keys are the column names, and values are the column data.\n",
    "    \"\"\"\n",
    "    data = np.loadtxt(fname, dtype=str, delimiter='\\t',\n",
    "                      comments=None, encoding='utf-8')\n",
    "    column_names = data[0, :]\n",
    "    info = data[1:, :]\n",
    "    data_dict = collections.OrderedDict()\n",
    "    if dtypes is None:\n",
    "        dtypes = [str] * info.shape[1]\n",
    "    if not isinstance(dtypes, (list, tuple)):\n",
    "        dtypes = [dtypes] * info.shape[1]\n",
    "    if not len(dtypes) == info.shape[1]:\n",
    "        raise ValueError('dtypes length mismatch. Provided: {0}, '\n",
    "                         'Expected: {1}'.format(len(dtypes), info.shape[1]))\n",
    "    for i, name in enumerate(column_names):\n",
    "        data_dict[name] = info[:, i].astype(dtypes[i]).tolist()\n",
    "    return data_dict"
   ]
  },
  {
   "cell_type": "code",
   "execution_count": 9,
   "metadata": {},
   "outputs": [
    {
     "name": "stdout",
     "output_type": "stream",
     "text": [
      "[[\"L'1\", '-1.095576', '66.539884', '35.287211', 'Unknown', 'Unknown'], [\"L'2\", '-3.804778', '67.947332', '35.308774', 'ctx_lh_G_front_sup', 'ctx-lh-superiorfrontal'], [\"L'3\", '-7.318944', '67.799889', '35.474825', 'ctx_lh_G_front_sup', 'ctx-lh-superiorfrontal'], [\"L'4\", '-10.587486', '67.266380', '36.440106', 'Left-Cerebral-White-Matter', 'Left-Cerebral-White-Matter'], [\"L'5\", '-13.942345', '68.679315', '36.434484', 'ctx_lh_G_front_sup', 'ctx-lh-superiorfrontal'], [\"L'6\", '-17.505318', '68.924151', '36.523733', 'Left-Cerebral-White-Matter', 'Left-Cerebral-White-Matter'], [\"L'7\", '-21.141346', '69.575450', '36.618872', 'Left-Cerebral-White-Matter', 'Left-Cerebral-White-Matter'], [\"L'8\", '-24.768636', '70.216901', '36.678147', 'Left-Cerebral-White-Matter', 'Left-Cerebral-White-Matter'], [\"L'11\", '-35.076995', '71.398199', '37.646456', 'Left-Cerebral-White-Matter', 'Left-Cerebral-White-Matter'], [\"L'12\", '-38.717799', '72.429766', '37.662103', 'ctx_lh_G_front_middle', 'ctx-lh-rostralmiddlefrontal'], [\"L'13\", '-41.295015', '72.632320', '37.804739', 'ctx_lh_G_front_middle', 'ctx-lh-rostralmiddlefrontal'], [\"L'14\", '-45.299609', '72.962515', '38.653796', 'Unknown', 'Unknown'], [\"N'1\", '0.310365', '55.307639', '56.059407', 'ctx_rh_G_front_sup', 'ctx-rh-superiorfrontal'], [\"N'2\", '-2.779489', '55.580637', '57.002584', 'Unknown', 'Unknown'], [\"N'3\", '-6.232275', '55.840585', '57.364656', 'Unknown', 'Unknown'], [\"N'4\", '-9.536342', '55.708765', '58.360146', 'ctx_lh_G_front_sup', 'ctx-lh-superiorfrontal'], [\"N'5\", '-13.145142', '56.022641', '59.303125', 'Left-Cerebral-White-Matter', 'Left-Cerebral-White-Matter'], [\"N'6\", '-16.482282', '56.661112', '59.521911', 'ctx_lh_S_front_sup', 'ctx-lh-superiorfrontal'], [\"N'7\", '-20.069954', '57.348006', '60.408980', 'ctx_lh_S_front_sup', 'ctx-lh-superiorfrontal'], [\"L'9\", '-28.123609', '70.128234', '37.574121', 'ctx_lh_S_front_middle', 'ctx-lh-rostralmiddlefrontal'], [\"L'10\", '-31.415426', '71.136879', '37.578534', 'ctx_lh_S_front_middle', 'ctx-lh-rostralmiddlefrontal'], [\"N'8\", '-23.744426', '57.254204', '61.382683', 'ctx_lh_S_front_sup', 'ctx-lh-rostralmiddlefrontal'], [\"N'9\", '-26.677349', '58.281536', '61.560423', 'ctx_lh_S_front_sup', 'ctx-lh-rostralmiddlefrontal'], [\"N'10\", '-30.366181', '58.192371', '62.593553', 'ctx_lh_S_front_sup', 'ctx-lh-rostralmiddlefrontal'], [\"N'11\", '-33.968939', '58.874767', '63.507398', 'ctx_lh_G_front_middle', 'ctx-lh-rostralmiddlefrontal'], [\"N'12\", '-38.102582', '59.640912', '64.751481', 'Unknown', 'Unknown'], [\"F'1\", '0.861862', '63.898502', '21.573020', 'ctx_rh_G_and_S_cingul-Ant', 'ctx-rh-medialorbitofrontal'], [\"F'2\", '-3.310259', '64.571406', '21.624713', 'ctx_lh_G_front_sup', 'ctx-lh-rostralanteriorcingulate'], [\"F'3\", '-6.687859', '65.592659', '21.649191', 'Left-Cerebral-White-Matter', 'Left-Cerebral-White-Matter'], [\"F'4\", '-10.103678', '65.049286', '21.755192', 'ctx_lh_G_and_S_cingul-Ant', 'ctx-lh-rostralanteriorcingulate'], [\"F'5\", '-13.723719', '65.693017', '21.803671', 'ctx_lh_G_and_S_cingul-Ant', 'ctx-lh-medialorbitofrontal'], [\"F'6\", '-17.402136', '65.135075', '21.900789', 'Left-Cerebral-White-Matter', 'Left-Cerebral-White-Matter'], [\"F'7\", '-21.041273', '65.785383', '21.949461', 'Left-Cerebral-White-Matter', 'Left-Cerebral-White-Matter'], [\"F'8\", '-24.332869', '66.843202', '22.750460', 'Left-Cerebral-White-Matter', 'Left-Cerebral-White-Matter'], [\"F'9\", '-28.005797', '67.427854', '21.936957', 'Left-Cerebral-White-Matter', 'Left-Cerebral-White-Matter'], [\"F'10\", '-31.610378', '67.660516', '21.922215', 'ctx_lh_G_and_S_frontomargin', 'ctx-lh-rostralmiddlefrontal'], [\"F'11\", '-34.977180', '68.303613', '21.889212', 'ctx_lh_G_and_S_frontomargin', 'ctx-lh-rostralmiddlefrontal'], [\"F'12\", '-38.321770', '68.941184', '21.897649', 'ctx_lh_G_front_middle', 'ctx-lh-rostralmiddlefrontal'], [\"F'13\", '-42.347067', '69.579321', '22.112220', 'ctx_lh_G_front_middle', 'ctx-lh-rostralmiddlefrontal'], [\"F'14\", '-45.247106', '69.826285', '22.024732', 'ctx_lh_G_orbital', 'ctx-lh-rostralmiddlefrontal'], [\"O'1\", '-2.619987', '43.623528', '5.812632', 'ctx_rh_G_rectus', 'ctx-rh-medialorbitofrontal'], [\"O'2\", '-6.001861', '44.705278', '6.761735', 'ctx_lh_G_rectus', 'ctx-lh-medialorbitofrontal'], [\"O'3\", '-9.757011', '44.643291', '7.832460', 'Left-Cerebral-White-Matter', 'Left-Cerebral-White-Matter'], [\"O'4\", '-12.702457', '45.252072', '8.090518', 'ctx_lh_S_orbital_med-olfact', 'ctx-lh-medialorbitofrontal'], [\"O'5\", '-16.000612', '45.935355', '9.019448', 'ctx_lh_S_orbital_med-olfact', 'ctx-lh-lateralorbitofrontal'], [\"O'6\", '-19.941449', '46.264511', '9.972084', 'ctx_lh_S_orbital-H_Shaped', 'ctx-lh-lateralorbitofrontal'], [\"O'7\", '-23.292785', '46.157549', '10.932246', 'Unknown', 'Unknown'], [\"O'8\", '-26.549290', '47.194924', '11.066268', 'ctx_lh_G_orbital', 'ctx-lh-lateralorbitofrontal'], [\"O'9\", '-30.189134', '47.074387', '12.073564', 'Left-Cerebral-White-Matter', 'Left-Cerebral-White-Matter'], [\"O'10\", '-33.504938', '47.366476', '12.975333', 'Left-Cerebral-White-Matter', 'Left-Cerebral-White-Matter'], [\"O'11\", '-36.844992', '48.015650', '13.203840', 'Left-Cerebral-White-Matter', 'Left-Cerebral-White-Matter'], [\"O'12\", '-40.450991', '48.309201', '14.138261', 'ctx_lh_G_orbital', 'ctx-lh-lateralorbitofrontal'], [\"O'13\", '-43.396573', '49.338923', '14.303202', 'Unknown', 'Unknown'], [\"O'14\", '-46.761809', '49.220334', '15.224906', 'ctx_lh_G_orbital', 'ctx-lh-parsorbitalis'], [\"O'15\", '-50.799976', '49.151101', '15.879254', 'ctx_lh_G_orbital', 'ctx-lh-parsorbitalis'], [\"O'16\", '-52.358044', '49.637330', '16.078271', 'Unknown', 'Unknown'], [\"G'1\", '0.018761', '53.647884', '35.197651', 'Unknown', 'Unknown'], [\"G'2\", '-3.112528', '53.860282', '35.337854', 'ctx_lh_G_and_S_cingul-Ant', 'ctx-lh-rostralanteriorcingulate'], [\"G'3\", '-6.528509', '55.282611', '35.345926', 'ctx_lh_G_and_S_cingul-Ant', 'ctx-lh-rostralanteriorcingulate'], [\"G'4\", '-10.133507', '55.532376', '35.426841', 'Unknown', 'Unknown'], [\"G'5\", '-13.435716', '56.152072', '35.463624', 'Left-Cerebral-White-Matter', 'Left-Cerebral-White-Matter'], [\"G'6\", '-17.063573', '56.055837', '36.323271', 'Left-Cerebral-White-Matter', 'Left-Cerebral-White-Matter'], [\"G'7\", '-20.408834', '56.679634', '36.336439', 'Left-Cerebral-White-Matter', 'Left-Cerebral-White-Matter'], [\"G'8\", '-24.001348', '56.921880', '36.383149', 'Left-Cerebral-White-Matter', 'Left-Cerebral-White-Matter'], [\"G'9\", '-27.369889', '57.549149', '36.391990', 'Left-Cerebral-White-Matter', 'Left-Cerebral-White-Matter'], [\"G'10\", '-30.985986', '57.797984', '36.431495', 'Left-Cerebral-White-Matter', 'Left-Cerebral-White-Matter'], [\"G'11\", '-34.257121', '58.413666', '36.420977', 'ctx_lh_S_front_inf', 'ctx-lh-rostralmiddlefrontal'], [\"G'12\", '-37.687867', '58.658298', '36.460188', 'ctx_lh_S_front_inf', 'ctx-lh-rostralmiddlefrontal'], [\"G'13\", '-41.277843', '58.900392', '36.512916', 'Left-Cerebral-White-Matter', 'Left-Cerebral-White-Matter'], [\"G'14\", '-44.616937', '59.524187', '36.540439', 'Left-Cerebral-White-Matter', 'Left-Cerebral-White-Matter'], [\"G'15\", '-48.701198', '59.806767', '36.684980', 'ctx_lh_G_front_inf-Triangul', 'ctx-lh-parstriangularis'], [\"G'16\", '-51.498405', '60.370667', '36.764905', 'ctx_lh_G_front_inf-Triangul', 'ctx-lh-parstriangularis'], [\"X'1\", '-0.416632', '28.166140', '50.955763', 'Unknown', 'Unknown'], [\"X'2\", '-2.660382', '28.353301', '51.929068', 'ctx_lh_G_and_S_cingul-Mid-Ant', 'ctx-lh-caudalanteriorcingulate'], [\"X'3\", '-6.022934', '28.632972', '53.161506', 'Left-Cerebral-White-Matter', 'Left-Cerebral-White-Matter'], [\"X'4\", '-10.101884', '28.986033', '54.305472', 'Left-Cerebral-White-Matter', 'Left-Cerebral-White-Matter'], [\"X'5\", '-14.092396', '28.986742', '55.980049', 'Left-Cerebral-White-Matter', 'Left-Cerebral-White-Matter'], [\"X'6\", '-17.026503', '29.234083', '57.034625', 'Left-Cerebral-White-Matter', 'Left-Cerebral-White-Matter'], [\"X'7\", '-20.661998', '29.546895', '58.104272', 'Left-Cerebral-White-Matter', 'Left-Cerebral-White-Matter'], [\"X'8\", '-23.555413', '30.125634', '59.101146', 'Left-Cerebral-White-Matter', 'Left-Cerebral-White-Matter'], [\"X'9\", '-26.875198', '30.065661', '60.189676', 'Left-Cerebral-White-Matter', 'Left-Cerebral-White-Matter'], [\"X'10\", '-29.802244', '29.995585', '61.255322', 'Left-Cerebral-White-Matter', 'Left-Cerebral-White-Matter'], [\"X'11\", '-32.646110', '30.604097', '62.205235', 'ctx_lh_S_precentral-inf-part', 'ctx-lh-caudalmiddlefrontal'], [\"X'12\", '-36.646198', '31.289810', '63.267809', 'ctx_lh_S_precentral-inf-part', 'ctx-lh-caudalmiddlefrontal'], [\"X'13\", '-40.097632', '31.247037', '64.402526', 'ctx_lh_S_precentral-inf-part', 'ctx-lh-caudalmiddlefrontal'], [\"X'14\", '-43.652207', '31.929346', '65.398302', 'ctx_lh_G_front_middle', 'ctx-lh-caudalmiddlefrontal'], [\"X'15\", '-46.536866', '32.208883', '66.400773', 'ctx_lh_G_front_middle', 'ctx-lh-caudalmiddlefrontal'], [\"X'16\", '-50.232055', '32.901193', '67.544440', 'Unknown', 'Unknown']]\n",
      "[[132 108 187]\n",
      " [132 108 188]\n",
      " [132 109 185]\n",
      " ...\n",
      " [147 116 183]\n",
      " [147 116 184]\n",
      " [147 116 185]]\n"
     ]
    }
   ],
   "source": [
    "pre = _from_tsv(\"C:\\\\Users\\\\d0156\\\\Johns Hopkins\\\\Adam Li - epilepsy_bids\\\\sub-la02\\\\ses-presurgery\\\\ieeg\\\\sub-la02_ses-presurgery_acq-seeg_space-fs_electrodes.tsv\")\n",
    "\n",
    "keys = list(pre.keys())\n",
    "values = list(pre.values())\n",
    "coords = [[] for c in range(len(values[0]))]\n",
    "\n",
    "for i in range(len(values[0])):\n",
    "    for j in range(len(keys)):\n",
    "        coords[i].append(values[j][i])\n",
    "\n",
    "print(coords)\n",
    "print(mask_indx)"
   ]
  },
  {
   "cell_type": "code",
   "execution_count": null,
   "metadata": {},
   "outputs": [],
   "source": []
  }
 ],
 "metadata": {
  "kernelspec": {
   "display_name": "Python 3",
   "language": "python",
   "name": "python3"
  },
  "language_info": {
   "codemirror_mode": {
    "name": "ipython",
    "version": 3
   },
   "file_extension": ".py",
   "mimetype": "text/x-python",
   "name": "python",
   "nbconvert_exporter": "python",
   "pygments_lexer": "ipython3",
   "version": "3.7.6"
  }
 },
 "nbformat": 4,
 "nbformat_minor": 4
}
