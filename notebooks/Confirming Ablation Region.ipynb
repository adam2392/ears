{
 "cells": [
  {
   "cell_type": "markdown",
   "metadata": {},
   "source": [
    "# Confirming the Anatomical Region of the Ablation"
   ]
  },
  {
   "cell_type": "markdown",
   "metadata": {},
   "source": [
    "This workflow is used to confirm that the annotated post MRI mask was mapped to the correct space by the following steps:\n",
    "\n",
    "1. Manually annotate the ablation region on the post surgical MRI with Seg3D.\n",
    "2. Use Slicer to orient the segmented MRI to freesurfer (FS) space.\n",
    "3. Overlay the mask with the Desikan-Killany atlas and compare to clinical results.\n",
    "4. Overlay the mask with electrode location and compare to clinical results. "
   ]
  },
  {
   "cell_type": "markdown",
   "metadata": {},
   "source": [
    "## 1. Manual Annotation"
   ]
  },
  {
   "cell_type": "markdown",
   "metadata": {},
   "source": [
    "We use Seg3D (https://github.com/SCIInstitute/Seg3D/releases) to manually segment the postsurgical MRI, which creates a binary mask of the ablation region. \n",
    "\n",
    "Note that the postsurgical MRI should be in FS space. If not, map it to FS space using FLIRT. "
   ]
  },
  {
   "cell_type": "code",
   "execution_count": null,
   "metadata": {},
   "outputs": [],
   "source": [
    "flirt -in {ses-postsurgery_space-ACPC} -ref {ses-presurgery_space-fs} -out {ses-postsurgery_space-fs}"
   ]
  },
  {
   "cell_type": "markdown",
   "metadata": {},
   "source": [
    "## 2. Mapping to FS Space"
   ]
  },
  {
   "cell_type": "markdown",
   "metadata": {},
   "source": [
    "Because Seg3D uses its own coordinate system, we need to map the mask to FS space. This can be done using the 'Resample Image (BRAINS)' function in Slicer (https://download.slicer.org/).\n",
    "\n",
    "Using the original postMRI (in FS space) as the reference image, we can map the mask to FS space. It may be a good idea to use an MRI viewer to ensure that the postMRI, the mask, and the reference atlas are all correctly aligned before moving on to the next step."
   ]
  },
  {
   "cell_type": "markdown",
   "metadata": {},
   "source": [
    "## 3. Overlay Mask with Atlas"
   ]
  },
  {
   "cell_type": "markdown",
   "metadata": {},
   "source": [
    "Freesurfer provides three different types of atlases: Desikan-Killiany, DKT, and Destrieux. We use Desikan-Killany. More information on atlases can be found here: https://surfer.nmr.mgh.harvard.edu/fswiki/CorticalParcellation.\n",
    "\n",
    "Freesurfer also provides a lookup table (LUT) that assigns a number to a certain brain region. The full table is documented here:https://surfer.nmr.mgh.harvard.edu/fswiki/FsTutorial/AnatomicalROI/FreeSurferColorLUT.\n",
    "\n",
    "Comparing the annotated voxels of the mask to the Desikan-Killany atlas, then finding the corresponding brain region in the Freesurfer LUT should give us a list of the brain regions that were ablated. This should match what was reported clinically."
   ]
  },
  {
   "cell_type": "markdown",
   "metadata": {},
   "source": [
    "## 4. Overlay Mask with Electrode Location"
   ]
  },
  {
   "cell_type": "markdown",
   "metadata": {},
   "source": [
    "There are two ways we can overlay the mask with the electrodes:\n",
    "1. Convert electrode locations to voxels\n",
    "2. Convert mask to xyz coordinates"
   ]
  },
  {
   "cell_type": "markdown",
   "metadata": {},
   "source": [
    "### Using Voxels"
   ]
  },
  {
   "cell_type": "markdown",
   "metadata": {},
   "source": [
    "We can convert the electrode locations to voxels using the affine matrix of the presurgical MRI. Applying the inverse affine transformation then flooring the values will produce the voxels of where each electrode is located. \n",
    "\n",
    "Overlaying these numbers with the voxels of the mask produces a list of electrodes that were removed and the brain regions each electrode was associated with. This should match what was reported clinically. "
   ]
  },
  {
   "cell_type": "markdown",
   "metadata": {},
   "source": [
    "### Using XYZ Coordinates"
   ]
  },
  {
   "cell_type": "markdown",
   "metadata": {},
   "source": [
    "We can convert the mask to xyz coordinates using the affine matrix of the postsurgical MRI. Applying the affine transformation will produce the xyz coordinates of the ablation region.\n",
    "\n",
    "Overlaying these numbers with the xyz coordinates of the electrode locations produces a list of electrodes that were removed and the brain regions each electrode was associated with. This should match what was reported clinically."
   ]
  },
  {
   "cell_type": "code",
   "execution_count": null,
   "metadata": {},
   "outputs": [],
   "source": []
  }
 ],
 "metadata": {
  "kernelspec": {
   "display_name": "Python 3",
   "language": "python",
   "name": "python3"
  },
  "language_info": {
   "codemirror_mode": {
    "name": "ipython",
    "version": 3
   },
   "file_extension": ".py",
   "mimetype": "text/x-python",
   "name": "python",
   "nbconvert_exporter": "python",
   "pygments_lexer": "ipython3",
   "version": "3.7.6"
  }
 },
 "nbformat": 4,
 "nbformat_minor": 4
}
