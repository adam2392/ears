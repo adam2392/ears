{
 "cells": [
  {
   "cell_type": "code",
   "execution_count": 1,
   "metadata": {},
   "outputs": [
    {
     "data": {
      "text/plain": [
       "Text(0.5, 0.98, 'Center slices for image')"
      ]
     },
     "execution_count": 1,
     "metadata": {},
     "output_type": "execute_result"
    },
    {
     "data": {
      "image/png": "[encoded data removed]",
      "text/plain": [
       "<Figure size 432x288 with 256 Axes>"
      ]
     },
     "metadata": {
      "needs_background": "light"
     },
     "output_type": "display_data"
    }
   ],
   "source": [
    "import os\n",
    "import sys\n",
    "from pathlib import Path\n",
    "\n",
    "from mne_bids import make_bids_basename\n",
    "# define entities and the basename\n",
    "subject = 'la02'\n",
    "session = 'presurgery'\n",
    "bids_basename = make_bids_basename(subject=subject, session=session, processing='robustfov', suffix='T1w.nii')\n",
    "\n",
    "# define bids root and the file path to image\n",
    "bids_root = Path(\"C:\\\\Users\\\\d0156\\\\Dropbox\\\\bids_layout_data\")\n",
    "img_fpath = bids_root / f'sub-{subject}' / f'ses-{session}' / 'anat' / bids_basename\n",
    "\n",
    "import nibabel as nib \n",
    "\n",
    "# load image\n",
    "img = nib.load(img_fpath)\n",
    "img_data = img.get_fdata()\n",
    "\n",
    "# Visualize slices\n",
    "import matplotlib.pyplot as plt\n",
    "def show_slices(slices):\n",
    "   fig, axes = plt.subplots(1, len(slices))\n",
    "   for i, slice in enumerate(slices):\n",
    "       axes[i].imshow(slice.T, cmap=\"gray\", origin=\"lower\")\n",
    "\n",
    "slice_0 = img_data[128, :, :]\n",
    "slice_1 = img_data[:, 94, :]\n",
    "slice_2 = img_data[:, :, 80]\n",
    "show_slices(img_data)\n",
    "plt.suptitle(\"Center slices for image\")\n"
   ]
  },
  {
   "cell_type": "code",
   "execution_count": null,
   "metadata": {},
   "outputs": [],
   "source": []
  }
 ],
 "metadata": {
  "kernelspec": {
   "display_name": "Python 3",
   "language": "python",
   "name": "python3"
  },
  "language_info": {
   "codemirror_mode": {
    "name": "ipython",
    "version": 3
   },
   "file_extension": ".py",
   "mimetype": "text/x-python",
   "name": "python",
   "nbconvert_exporter": "python",
   "pygments_lexer": "ipython3",
   "version": "3.7.6"
  }
 },
 "nbformat": 4,
 "nbformat_minor": 4
}
