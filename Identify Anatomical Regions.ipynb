{
 "cells": [
  {
   "cell_type": "markdown",
   "metadata": {},
   "source": [
    "# Identifying Anatomical Regions\n",
    "\n",
    "This workflow describes how to confirm the anatomical region that was ablated. We essentially \n",
    "\n",
    "So we have access to the anatomical parcellated volume, which we can match each voxel to a brain region on an atlas, and this should roughly match up w/ what is reported clinically."
   ]
  }
 ],
 "metadata": {
  "kernelspec": {
   "display_name": "Python 3",
   "language": "python",
   "name": "python3"
  },
  "language_info": {
   "codemirror_mode": {
    "name": "ipython",
    "version": 3
   },
   "file_extension": ".py",
   "mimetype": "text/x-python",
   "name": "python",
   "nbconvert_exporter": "python",
   "pygments_lexer": "ipython3",
   "version": "3.7.6"
  }
 },
 "nbformat": 4,
 "nbformat_minor": 4
}
